{
 "cells": [
  {
   "cell_type": "code",
   "execution_count": null,
   "metadata": {},
   "outputs": [],
   "source": [
    "from PIL import Image\n",
    "from tensorflow.keras.layers import Dense,Input\n",
    "from keras.layers import Input , Lambda , Flatten , Dense , Dropout\n",
    "from keras.models import Model\n",
    "from keras.layers import Conv2D, MaxPooling2D, ZeroPadding2D\n",
    "from keras.layers.normalization import BatchNormalization\n",
    "from keras.applications.vgg16 import VGG16\n",
    "from keras.applications.vgg16 import preprocess_input\n",
    "from keras.preprocessing import image\n",
    "from keras.preprocessing.image import ImageDataGenerator\n",
    "from keras.models import Sequential\n",
    "import numpy as np \n",
    "import glob as glob\n",
    "datagen = ImageDataGenerator()\n",
    "import matplotlib.pyplot as plt\n",
    "\n",
    "import json\n",
    "import random\n",
    "import cv2\n",
    "\n",
    "import tensorflow as tf"
   ]
  },
  {
   "cell_type": "code",
   "execution_count": null,
   "metadata": {},
   "outputs": [],
   "source": [
    "IMAGE_SIZE = [175, 175]\n",
    "\n",
    "t_photo = 't_photo/'\n",
    "testing_photo = 'testing_photo/'\n",
    "value_photo = 'value_photo/'\n"
   ]
  },
  {
   "cell_type": "code",
   "execution_count": null,
   "metadata": {},
   "outputs": [],
   "source": []
  },
  {
   "cell_type": "code",
   "execution_count": null,
   "metadata": {},
   "outputs": [],
   "source": [
    "myvgg = VGG16(input_shape=IMAGE_SIZE +  [3], weights='imagenet', include_top=False)\n",
    "for layer in myvgg.layers:\n",
    "    layer.trainable = False\n",
    "    \n",
    "for (i,layer) in enumerate(myvgg.layers):\n",
    "    print(str(i) + \" \"+ layer.__class__.__name__, layer.trainable)\n"
   ]
  },
  {
   "cell_type": "code",
   "execution_count": null,
   "metadata": {},
   "outputs": [],
   "source": [
    "myfolders = glob.glob('Desktop\\virtual_machine\\ppp\\t_photo')\n",
    "def addTopmodel(bottom_model, num_classes, D=256):\n",
    "    top_model = bottom_model.output\n",
    "    top_model = Flatten(name = \"flatten\")(top_model)\n",
    "    top_model = Dense(D, activation = \"relu\")( top_model)\n",
    "    top_model = Dropout(0.3)(top_model)\n",
    "    top_model = Dense(num_classes, activation = \"softmax\")( top_model)\n",
    "    return top_model\n",
    "\n"
   ]
  },
  {
   "cell_type": "code",
   "execution_count": null,
   "metadata": {},
   "outputs": [],
   "source": [
    "model.compile(loss='categorical_crossentropy',optimizer='adam',metrics=['accuracy'])\n",
    "nb_training_samples = 149\n",
    "nb_validation_samples = 19 \n",
    "epochs = 7\n",
    "batch_size = 16\n",
    "    \n"
   ]
  },
  {
   "cell_type": "code",
   "execution_count": null,
   "metadata": {},
   "outputs": [],
   "source": [
    "r = model.fit_generator( training_set, steps_per_epoch = nb_training_samples //batch_size,validation_data=test_set,epochs= epochs,validation_steps= nb_validation_samples //batch_size)\n",
    "\n"
   ]
  },
  {
   "cell_type": "code",
   "execution_count": null,
   "metadata": {},
   "outputs": [],
   "source": [
    "num_classes = 2\n",
    "This_fc = addTopmodel(myvgg, num_classes)\n",
    "model = Model(inputs=myvgg.input, outputs=This_fc)\n",
    "print(model.summary())\n"
   ]
  },
  {
   "cell_type": "code",
   "execution_count": null,
   "metadata": {},
   "outputs": [],
   "source": [
    "training_datagen = ImageDataGenerator(rescale = 1./255, shear_range = 0.2, zoom_range = 0.5, horizontal_flip = False)\n",
    "\n",
    "t_datagen = ImageDataGenerator(rescale = 1./255, shear_range = 0.2, zoom_range = 0.5, horizontal_flip = False)\n",
    "training_set = training_datagen.flow_from_directory('training_photo/', target_size = (175, 175),batch_size = 28,class_mode = 'categorical')\n",
    "t_set = t_datagen.flow_from_directory('t_photo/',target_size = (175,175),batch_size = 28,class_mode = 'categorical')\n"
   ]
  },
  {
   "cell_type": "code",
   "execution_count": null,
   "metadata": {},
   "outputs": [],
   "source": []
  },
  {
   "cell_type": "code",
   "execution_count": null,
   "metadata": {},
   "outputs": [],
   "source": []
  }
 ],
 "metadata": {
  "kernelspec": {
   "display_name": "Python 3",
   "language": "python",
   "name": "python3"
  },
  "language_info": {
   "codemirror_mode": {
    "name": "ipython",
    "version": 3
   },
   "file_extension": ".py",
   "mimetype": "text/x-python",
   "name": "python",
   "nbconvert_exporter": "python",
   "pygments_lexer": "ipython3",
   "version": "3.7.6"
  }
 },
 "nbformat": 4,
 "nbformat_minor": 4
}
